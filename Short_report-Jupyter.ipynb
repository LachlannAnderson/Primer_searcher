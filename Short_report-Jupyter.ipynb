{
 "cells": [
  {
   "cell_type": "code",
   "execution_count": 25,
   "id": "1c24e08b-12e3-4dfe-89e3-7ff789f936de",
   "metadata": {},
   "outputs": [
    {
     "name": "stdout",
     "output_type": "stream",
     "text": [
      "Requirement already satisfied: biopython in c:\\users\\ander\\anaconda3\\condabin\\download\\lib\\site-packages (1.84)\n",
      "Requirement already satisfied: numpy in c:\\users\\ander\\anaconda3\\condabin\\download\\lib\\site-packages (from biopython) (1.26.4)\n"
     ]
    },
    {
     "name": "stdin",
     "output_type": "stream",
     "text": [
      "Which accession number would you like to search for? Eg. NM_001301717 : NM_001301717\n",
      "What is the primer sequence you would like to search for? Eg. AACCGT, GGGC : GGGC\n",
      "What email address can be used for this search?  j.anderson@rothamsted.ac.uk\n"
     ]
    },
    {
     "name": "stdout",
     "output_type": "stream",
     "text": [
      "Fetched Sequence: CTCTAGATGAGTCAGTGGAGGGCGGGTGGAGCGTTGAACCGTGAAGAGTGTGGTTGGGCGTAAACGTGGACTTAAACTCAGGAGCTAAGGGGGAAACCAA...\n",
      "Primer found at positions: [20, 56, 294, 303, 310, 422, 621, 1113, 1418, 1530, 1553, 1913, 1990]\n",
      "primer found 13 times in sequence.\n"
     ]
    }
   ],
   "source": [
    "# Imports the necessary packages to allow the code to run\n",
    "\n",
    "!pip install biopython\n",
    "\n",
    "from Bio import Entrez\n",
    "from Bio.Seq import Seq\n",
    "from Bio.SeqUtils import nt_search\n",
    "\n",
    "# 1. Function to fetch sequence from NCBI\n",
    "def fetch_sequence_from_ncbi(accession_number): # Requires input of the accession number of interest\n",
    "    Entrez.email = input(\"What email address can be used for this search? \")  # NCBI requires an email address\n",
    "    try:\n",
    "        # Fetch the sequence data from NCBI using Entrez\n",
    "        handle = Entrez.efetch(db=\"nucleotide\", id=accession_number, rettype=\"fasta\", retmode=\"text\")\n",
    "        record = handle.read()\n",
    "        handle.close()\n",
    "        \n",
    "        # Extract the sequence from the fasta record\n",
    "        sequence = ''.join(record.split('\\n')[1:])\n",
    "        return sequence.upper() # Return standardised uppercase sequence\n",
    "\n",
    "    except Exception as e:\n",
    "        print(f\"Error fetching sequence from NCBI: {e}\") # Tells the user what error occurred which prevented the code from running\n",
    "        return None\n",
    "\n",
    "# 2. Function to search for a primer in the sequence\n",
    "def find_primer_in_sequence(sequence, primer): # Requires the sequence which was output from the above function and the primer of interest\n",
    "    primer = primer.upper() # Standardise the primer sequence to upper case as done with the sequence\n",
    "    \n",
    "    # Find all occurrences of primer in sequence\n",
    "    positions = [] # Empty list for the positions of the sequences to be put into\n",
    "    pos = sequence.find(primer)\n",
    "    while pos != -1: # If the sequence is not found it will be -1 and thus this section will not be done\n",
    "        positions.append(pos+1) # Add 1 to convert to 1-based position\n",
    "        pos = sequence.find(primer, pos+1) # Searches again for the primer in the sequence starting from right after the last occurrence\n",
    "                                            # If there is only one occurrence then this will return -1 and the while loop will be exited\n",
    "    return positions # Returns a list of the positions of all occurrences of the primer in the sequence\n",
    "\n",
    "# 3. Main function\n",
    "def main():\n",
    "    # Allows the user to input the accession number and primer sequence they would like to cross-reference\n",
    "    accession_number = input(\"Which accession number would you like to search for? Eg. NM_001301717 :\")  # Example accession number given to allow run of code\n",
    "    primer_sequence = input(\"What is the primer sequence you would like to search for? Eg. AACCGT, GGGC :\")  # Example primer sequence given to allow run of code\n",
    "                                # AACCGT has one occurrence, GGGC has multiple to show how the code runs\n",
    "    \n",
    "    # Fetch the sequence\n",
    "    sequence = fetch_sequence_from_ncbi(accession_number) # Calls function 1\n",
    "    if sequence: # If the sequence was unable to be fetched, this variable will be empty and, as such the if won't run\n",
    "        print(f\"Fetched Sequence: {sequence[:100]}...\")  # Print first 100 bases for preview to allow visualisation\n",
    "\n",
    "        # Search for the primer sequence\n",
    "        primer_locations = find_primer_in_sequence(sequence, primer_sequence) # Calls function 2\n",
    "        if primer_locations: # If the primer was found then the location will be added to the list, if not then it was not found and the else runs\n",
    "            print(f\"Primer found at positions: {primer_locations}\") # Reports the results to the user\n",
    "            print(\"primer found\", len(primer_locations), \"times in sequence.\") # Reports the results to the user\n",
    "        else:\n",
    "            print(\"Primer not found in the sequence.\")\n",
    "    else:\n",
    "        print(\"Could not fetch the sequence.\")\n",
    "\n",
    "if __name__ == \"__main__\": # This section prevents the code running automatically if imported as a module\n",
    "                            # Not strictly necessary here but helps allow reuse of code\n",
    "    main() # Calls function 3, inside of which functions 1 and 2 are called\n",
    "\n"
   ]
  }
 ],
 "metadata": {
  "kernelspec": {
   "display_name": "Python 3 (ipykernel)",
   "language": "python",
   "name": "python3"
  },
  "language_info": {
   "codemirror_mode": {
    "name": "ipython",
    "version": 3
   },
   "file_extension": ".py",
   "mimetype": "text/x-python",
   "name": "python",
   "nbconvert_exporter": "python",
   "pygments_lexer": "ipython3",
   "version": "3.12.7"
  }
 },
 "nbformat": 4,
 "nbformat_minor": 5
}
